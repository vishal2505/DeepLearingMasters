{
 "cells": [
  {
   "cell_type": "markdown",
   "metadata": {},
   "source": [
    "# data types"
   ]
  },
  {
   "cell_type": "code",
   "execution_count": 86,
   "metadata": {},
   "outputs": [
    {
     "name": "stdout",
     "output_type": "stream",
     "text": [
      "Type/Class of this object: <class 'numpy.ndarray'>\n",
      "Here is the vector\n",
      "--------------------\n",
      " [1 2 3]\n"
     ]
    }
   ],
   "source": [
    "my_list = [1,2,3]\n",
    "import numpy as np\n",
    "arr = np.array(my_list)\n",
    "print(\"Type/Class of this object:\",type(arr))\n",
    "print(\"Here is the vector\\n--------------------\\n\",arr)"
   ]
  },
  {
   "cell_type": "code",
   "execution_count": 87,
   "metadata": {},
   "outputs": [
    {
     "name": "stdout",
     "output_type": "stream",
     "text": [
      "Type/Class of this object: <class 'numpy.ndarray'>\n",
      "Here is the matrix\n",
      "----------\n",
      " [[1 2 3]\n",
      " [4 5 6]\n",
      " [7 8 9]] \n",
      "----------\n",
      "Dimension of this matrix: 2\n",
      "Size of this matrix: 9\n",
      "Shape of this matrix: (3, 3)\n",
      "Data type of this matrix: int32\n"
     ]
    }
   ],
   "source": [
    "my_mat = [[1,2,3],[4,5,6],[7,8,9]]\n",
    "mat = np.array(my_mat)\n",
    "print(\"Type/Class of this object:\",type(mat))\n",
    "print(\"Here is the matrix\\n----------\\n\",mat,\"\\n----------\")\n",
    "print(\"Dimension of this matrix: \",mat.ndim,sep='') #ndim gives the dimensison, 2 for a matrix, 1 for a vector\n",
    "print(\"Size of this matrix: \", mat.size,sep='') #size gives the total number of elements\n",
    "print(\"Shape of this matrix: \", mat.shape,sep='') #shape gives the number of elements along each axes (dimension)\n",
    "print(\"Data type of this matrix: \", mat.dtype,sep='') #dtype gives the data type contained in the array\n"
   ]
  },
  {
   "cell_type": "code",
   "execution_count": 88,
   "metadata": {},
   "outputs": [
    {
     "name": "stdout",
     "output_type": "stream",
     "text": [
      "Data type of the modified matrix: float64\n",
      "\n",
      "\n",
      "Even tuples can be converted to ndarrays...\n"
     ]
    }
   ],
   "source": [
    "my_mat = [[1.1,2,3],[4,5.2,6],[7,8.3,9]]\n",
    "mat = np.array(my_mat)\n",
    "print(\"Data type of the modified matrix: \", mat.dtype,sep='') #dtype gives the data type contained in the array\n",
    "print(\"\\n\\nEven tuples can be converted to ndarrays...\")\n"
   ]
  },
  {
   "cell_type": "code",
   "execution_count": 89,
   "metadata": {},
   "outputs": [
    {
     "name": "stdout",
     "output_type": "stream",
     "text": [
      "We write b = np.array([(1.5,2,3), (4,5,6)])\n",
      "Matrix made from tuples, not lists\n",
      "---------------------------------------\n",
      "[[ 1.5  2.   3. ]\n",
      " [ 4.   5.   6. ]]\n"
     ]
    }
   ],
   "source": [
    "b = np.array([(1.5,2,3), (4,5,6)])\n",
    "print(\"We write b = np.array([(1.5,2,3), (4,5,6)])\")\n",
    "print(\"Matrix made from tuples, not lists\\n---------------------------------------\")\n",
    "print(b)"
   ]
  },
  {
   "cell_type": "code",
   "execution_count": null,
   "metadata": {},
   "outputs": [],
   "source": []
  }
 ],
 "metadata": {
  "kernelspec": {
   "display_name": "Python 3",
   "language": "python",
   "name": "python3"
  },
  "language_info": {
   "codemirror_mode": {
    "name": "ipython",
    "version": 3
   },
   "file_extension": ".py",
   "mimetype": "text/x-python",
   "name": "python",
   "nbconvert_exporter": "python",
   "pygments_lexer": "ipython3",
   "version": "3.7.3"
  }
 },
 "nbformat": 4,
 "nbformat_minor": 2
}
